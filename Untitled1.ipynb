{
  "nbformat": 4,
  "nbformat_minor": 0,
  "metadata": {
    "colab": {
      "name": "Untitled1.ipynb",
      "version": "0.3.2",
      "provenance": [],
      "include_colab_link": true
    },
    "kernelspec": {
      "name": "python3",
      "display_name": "Python 3"
    }
  },
  "cells": [
    {
      "cell_type": "markdown",
      "metadata": {
        "id": "view-in-github",
        "colab_type": "text"
      },
      "source": [
        "<a href=\"https://colab.research.google.com/github/kavithabakshi/ADNI/blob/master/Untitled1.ipynb\" target=\"_parent\"><img src=\"https://colab.research.google.com/assets/colab-badge.svg\" alt=\"Open In Colab\"/></a>"
      ]
    },
    {
      "cell_type": "code",
      "metadata": {
        "id": "EdSg6I3XUcrN",
        "colab_type": "code",
        "colab": {
          "base_uri": "https://localhost:8080/",
          "height": 34
        },
        "outputId": "a6ea0870-b240-44ba-c2c6-6fa1de79e614"
      },
      "source": [
        "#Ganesha\n",
        "import cv2\n",
        "from keras.layers import Input, Dense, Conv2D, Flatten, MaxPooling2D\n",
        "from keras.layers.normalization import BatchNormalization\n",
        "from keras.models import Sequential, Model\n",
        "from keras.optimizers import SGD, Adam, RMSprop\n",
        "import numpy as np\n",
        "from PIL import Image, ImageDraw, ImageFont\n",
        "import nibabel as nib #reading MRI images\n",
        "#from sklearn.cross_validation import train_test_split\n",
        "from matplotlib import pyplot as plt\n",
        "%matplotlib inline\n",
        "import pandas as pd\n",
        "import glob"
      ],
      "execution_count": 1,
      "outputs": [
        {
          "output_type": "stream",
          "text": [
            "Using TensorFlow backend.\n"
          ],
          "name": "stderr"
        }
      ]
    },
    {
      "cell_type": "code",
      "metadata": {
        "id": "QFwPlosFfV04",
        "colab_type": "code",
        "outputId": "242e5cda-cfdc-45e8-93d7-7b965e2acf1f",
        "colab": {
          "base_uri": "https://localhost:8080/",
          "height": 69
        }
      },
      "source": [
        "# Code to read csv file into Colaboratory:\n",
        "!pip install -U -q PyDrive\n",
        "from pydrive.auth import GoogleAuth\n",
        "from pydrive.drive import GoogleDrive\n",
        "from google.colab import auth\n",
        "from oauth2client.client import GoogleCredentials\n",
        "# Authenticate and create the PyDrive client.\n",
        "auth.authenticate_user()\n",
        "gauth = GoogleAuth()\n",
        "gauth.credentials = GoogleCredentials.get_application_default()\n",
        "drive = GoogleDrive(gauth)\n",
        "link = 'https://drive.google.com/open?id=1JWZGDUIC6JGNG8s6NuRPNk534Qpr2Dru'\n",
        "fluff, id = link.split('=')\n",
        "print (id) # Verify that you have everything after '='\n",
        "downloaded = drive.CreateFile({'id':id}) "
      ],
      "execution_count": 2,
      "outputs": [
        {
          "output_type": "stream",
          "text": [
            "\u001b[?25l\r\u001b[K     |▎                               | 10kB 19.2MB/s eta 0:00:01\r\u001b[K     |▋                               | 20kB 3.0MB/s eta 0:00:01\r\u001b[K     |█                               | 30kB 4.3MB/s eta 0:00:01\r\u001b[K     |█▎                              | 40kB 3.0MB/s eta 0:00:01\r\u001b[K     |█▋                              | 51kB 3.6MB/s eta 0:00:01\r\u001b[K     |██                              | 61kB 4.3MB/s eta 0:00:01\r\u001b[K     |██▎                             | 71kB 4.9MB/s eta 0:00:01\r\u001b[K     |██▋                             | 81kB 5.6MB/s eta 0:00:01\r\u001b[K     |███                             | 92kB 6.2MB/s eta 0:00:01\r\u001b[K     |███▎                            | 102kB 4.9MB/s eta 0:00:01\r\u001b[K     |███▋                            | 112kB 4.9MB/s eta 0:00:01\r\u001b[K     |████                            | 122kB 4.9MB/s eta 0:00:01\r\u001b[K     |████▎                           | 133kB 4.9MB/s eta 0:00:01\r\u001b[K     |████▋                           | 143kB 4.9MB/s eta 0:00:01\r\u001b[K     |█████                           | 153kB 4.9MB/s eta 0:00:01\r\u001b[K     |█████▎                          | 163kB 4.9MB/s eta 0:00:01\r\u001b[K     |█████▋                          | 174kB 4.9MB/s eta 0:00:01\r\u001b[K     |██████                          | 184kB 4.9MB/s eta 0:00:01\r\u001b[K     |██████▎                         | 194kB 4.9MB/s eta 0:00:01\r\u001b[K     |██████▋                         | 204kB 4.9MB/s eta 0:00:01\r\u001b[K     |███████                         | 215kB 4.9MB/s eta 0:00:01\r\u001b[K     |███████▎                        | 225kB 4.9MB/s eta 0:00:01\r\u001b[K     |███████▋                        | 235kB 4.9MB/s eta 0:00:01\r\u001b[K     |████████                        | 245kB 4.9MB/s eta 0:00:01\r\u001b[K     |████████▎                       | 256kB 4.9MB/s eta 0:00:01\r\u001b[K     |████████▋                       | 266kB 4.9MB/s eta 0:00:01\r\u001b[K     |█████████                       | 276kB 4.9MB/s eta 0:00:01\r\u001b[K     |█████████▎                      | 286kB 4.9MB/s eta 0:00:01\r\u001b[K     |█████████▋                      | 296kB 4.9MB/s eta 0:00:01\r\u001b[K     |██████████                      | 307kB 4.9MB/s eta 0:00:01\r\u001b[K     |██████████▎                     | 317kB 4.9MB/s eta 0:00:01\r\u001b[K     |██████████▋                     | 327kB 4.9MB/s eta 0:00:01\r\u001b[K     |███████████                     | 337kB 4.9MB/s eta 0:00:01\r\u001b[K     |███████████▎                    | 348kB 4.9MB/s eta 0:00:01\r\u001b[K     |███████████▋                    | 358kB 4.9MB/s eta 0:00:01\r\u001b[K     |████████████                    | 368kB 4.9MB/s eta 0:00:01\r\u001b[K     |████████████▎                   | 378kB 4.9MB/s eta 0:00:01\r\u001b[K     |████████████▋                   | 389kB 4.9MB/s eta 0:00:01\r\u001b[K     |█████████████                   | 399kB 4.9MB/s eta 0:00:01\r\u001b[K     |█████████████▎                  | 409kB 4.9MB/s eta 0:00:01\r\u001b[K     |█████████████▋                  | 419kB 4.9MB/s eta 0:00:01\r\u001b[K     |██████████████                  | 430kB 4.9MB/s eta 0:00:01\r\u001b[K     |██████████████▎                 | 440kB 4.9MB/s eta 0:00:01\r\u001b[K     |██████████████▋                 | 450kB 4.9MB/s eta 0:00:01\r\u001b[K     |███████████████                 | 460kB 4.9MB/s eta 0:00:01\r\u001b[K     |███████████████▎                | 471kB 4.9MB/s eta 0:00:01\r\u001b[K     |███████████████▋                | 481kB 4.9MB/s eta 0:00:01\r\u001b[K     |████████████████                | 491kB 4.9MB/s eta 0:00:01\r\u001b[K     |████████████████▎               | 501kB 4.9MB/s eta 0:00:01\r\u001b[K     |████████████████▋               | 512kB 4.9MB/s eta 0:00:01\r\u001b[K     |█████████████████               | 522kB 4.9MB/s eta 0:00:01\r\u001b[K     |█████████████████▎              | 532kB 4.9MB/s eta 0:00:01\r\u001b[K     |█████████████████▋              | 542kB 4.9MB/s eta 0:00:01\r\u001b[K     |██████████████████              | 552kB 4.9MB/s eta 0:00:01\r\u001b[K     |██████████████████▎             | 563kB 4.9MB/s eta 0:00:01\r\u001b[K     |██████████████████▋             | 573kB 4.9MB/s eta 0:00:01\r\u001b[K     |███████████████████             | 583kB 4.9MB/s eta 0:00:01\r\u001b[K     |███████████████████▎            | 593kB 4.9MB/s eta 0:00:01\r\u001b[K     |███████████████████▋            | 604kB 4.9MB/s eta 0:00:01\r\u001b[K     |████████████████████            | 614kB 4.9MB/s eta 0:00:01\r\u001b[K     |████████████████████▎           | 624kB 4.9MB/s eta 0:00:01\r\u001b[K     |████████████████████▋           | 634kB 4.9MB/s eta 0:00:01\r\u001b[K     |█████████████████████           | 645kB 4.9MB/s eta 0:00:01\r\u001b[K     |█████████████████████▎          | 655kB 4.9MB/s eta 0:00:01\r\u001b[K     |█████████████████████▋          | 665kB 4.9MB/s eta 0:00:01\r\u001b[K     |██████████████████████          | 675kB 4.9MB/s eta 0:00:01\r\u001b[K     |██████████████████████▎         | 686kB 4.9MB/s eta 0:00:01\r\u001b[K     |██████████████████████▋         | 696kB 4.9MB/s eta 0:00:01\r\u001b[K     |███████████████████████         | 706kB 4.9MB/s eta 0:00:01\r\u001b[K     |███████████████████████▎        | 716kB 4.9MB/s eta 0:00:01\r\u001b[K     |███████████████████████▋        | 727kB 4.9MB/s eta 0:00:01\r\u001b[K     |████████████████████████        | 737kB 4.9MB/s eta 0:00:01\r\u001b[K     |████████████████████████▎       | 747kB 4.9MB/s eta 0:00:01\r\u001b[K     |████████████████████████▋       | 757kB 4.9MB/s eta 0:00:01\r\u001b[K     |████████████████████████▉       | 768kB 4.9MB/s eta 0:00:01\r\u001b[K     |█████████████████████████▏      | 778kB 4.9MB/s eta 0:00:01\r\u001b[K     |█████████████████████████▌      | 788kB 4.9MB/s eta 0:00:01\r\u001b[K     |█████████████████████████▉      | 798kB 4.9MB/s eta 0:00:01\r\u001b[K     |██████████████████████████▏     | 808kB 4.9MB/s eta 0:00:01\r\u001b[K     |██████████████████████████▌     | 819kB 4.9MB/s eta 0:00:01\r\u001b[K     |██████████████████████████▉     | 829kB 4.9MB/s eta 0:00:01\r\u001b[K     |███████████████████████████▏    | 839kB 4.9MB/s eta 0:00:01\r\u001b[K     |███████████████████████████▌    | 849kB 4.9MB/s eta 0:00:01\r\u001b[K     |███████████████████████████▉    | 860kB 4.9MB/s eta 0:00:01\r\u001b[K     |████████████████████████████▏   | 870kB 4.9MB/s eta 0:00:01\r\u001b[K     |████████████████████████████▌   | 880kB 4.9MB/s eta 0:00:01\r\u001b[K     |████████████████████████████▉   | 890kB 4.9MB/s eta 0:00:01\r\u001b[K     |█████████████████████████████▏  | 901kB 4.9MB/s eta 0:00:01\r\u001b[K     |█████████████████████████████▌  | 911kB 4.9MB/s eta 0:00:01\r\u001b[K     |█████████████████████████████▉  | 921kB 4.9MB/s eta 0:00:01\r\u001b[K     |██████████████████████████████▏ | 931kB 4.9MB/s eta 0:00:01\r\u001b[K     |██████████████████████████████▌ | 942kB 4.9MB/s eta 0:00:01\r\u001b[K     |██████████████████████████████▉ | 952kB 4.9MB/s eta 0:00:01\r\u001b[K     |███████████████████████████████▏| 962kB 4.9MB/s eta 0:00:01\r\u001b[K     |███████████████████████████████▌| 972kB 4.9MB/s eta 0:00:01\r\u001b[K     |███████████████████████████████▉| 983kB 4.9MB/s eta 0:00:01\r\u001b[K     |████████████████████████████████| 993kB 4.9MB/s \n",
            "\u001b[?25h  Building wheel for PyDrive (setup.py) ... \u001b[?25l\u001b[?25hdone\n",
            "1JWZGDUIC6JGNG8s6NuRPNk534Qpr2Dru\n"
          ],
          "name": "stdout"
        }
      ]
    },
    {
      "cell_type": "code",
      "metadata": {
        "id": "5x8LU12EbZH_",
        "colab_type": "code",
        "outputId": "81eef9c3-f31d-4e95-ad4b-71b2733eeaf3",
        "colab": {
          "base_uri": "https://localhost:8080/",
          "height": 397
        }
      },
      "source": [
        "ADNI_csv = 'https://raw.githubusercontent.com/kavithabakshi/ADNI/master/ADNI1_Complete_1Yr_1.5T_4_14_2019.csv'\n",
        "df = pd.read_csv(ADNI_csv, delimiter= ',')\n",
        "print(df.info())\n",
        "filename = df['FileName']\n",
        "print(len(filename))\n",
        "images = []\n",
        "for f in range(len(filename)):\n",
        "    downloaded.GetContentFile(filename[f])  \n",
        "    a = nib.load(filename[f])\n",
        "    a = a.get_data()\n",
        "    for i in range(a.shape[1]):\n",
        "        images.append((a[:,i,:]))\n",
        "      #images.append(a)\n",
        "#print (a.shape)\n",
        "#a[:,0,:].shape\n",
        "images = np.asarray(images)\n",
        "images.shape\n",
        "images = images.reshape(-1, 192,160,1)\n",
        "print(images.shape)\n",
        "m = np.max(images)\n",
        "mi = np.min(images)\n",
        "images = (images - mi) / (m - mi)\n",
        "np.min(images), np.max(images)\n",
        "print(\"Dataset (images) shape: {shape}\".format(shape=images.shape))"
      ],
      "execution_count": 14,
      "outputs": [
        {
          "output_type": "stream",
          "text": [
            "<class 'pandas.core.frame.DataFrame'>\n",
            "RangeIndex: 3 entries, 0 to 2\n",
            "Data columns (total 13 columns):\n",
            "FileName         3 non-null object\n",
            "Image Data ID    3 non-null int64\n",
            "Subject          3 non-null object\n",
            "Group            3 non-null object\n",
            "Sex              3 non-null object\n",
            "Age              3 non-null int64\n",
            "Visit            3 non-null int64\n",
            "Modality         3 non-null object\n",
            "Description      3 non-null object\n",
            "Type             3 non-null object\n",
            "Acq Date         3 non-null object\n",
            "Format           3 non-null object\n",
            "Downloaded       1 non-null object\n",
            "dtypes: int64(3), object(10)\n",
            "memory usage: 392.0+ bytes\n",
            "None\n",
            "3\n",
            "(576, 192, 160, 1)\n",
            "Dataset (images) shape: (576, 192, 160, 1)\n"
          ],
          "name": "stdout"
        }
      ]
    },
    {
      "cell_type": "code",
      "metadata": {
        "id": "rWocgZAHcZmb",
        "colab_type": "code",
        "colab": {
          "base_uri": "https://localhost:8080/",
          "height": 380
        },
        "outputId": "cf14b421-9fe7-4ac8-f69d-9c631e27e999"
      },
      "source": [
        "ADNI_csv = 'https://raw.githubusercontent.com/kavithabakshi/ADNI/master/ADNI1_Complete_1Yr_1.5T_4_14_2019.csv'\n",
        "df = pd.read_csv(ADNI_csv, delimiter= ',')\n",
        "print(df.info())\n",
        "filename = df['FileName']\n",
        "print(len(filename))\n",
        "images = []\n",
        "data = []\n",
        "for f in range(len(filename)):\n",
        "  downloaded.GetContentFile(filename[f])  \n",
        "  a = nib.load(filename[f])\n",
        "  a = a.get_data()\n",
        "  #images = cv2.resize(a, (192, 160))\n",
        "  data.append(a)\n",
        "#print(images.shape)\n",
        "images = np.array(data, dtype=\"float\") / 255.0\n",
        "print(\"Dataset (images) shape: {shape}\".format(shape=images.shape))"
      ],
      "execution_count": 22,
      "outputs": [
        {
          "output_type": "stream",
          "text": [
            "<class 'pandas.core.frame.DataFrame'>\n",
            "RangeIndex: 3 entries, 0 to 2\n",
            "Data columns (total 13 columns):\n",
            "FileName         3 non-null object\n",
            "Image Data ID    3 non-null int64\n",
            "Subject          3 non-null object\n",
            "Group            3 non-null object\n",
            "Sex              3 non-null object\n",
            "Age              3 non-null int64\n",
            "Visit            3 non-null int64\n",
            "Modality         3 non-null object\n",
            "Description      3 non-null object\n",
            "Type             3 non-null object\n",
            "Acq Date         3 non-null object\n",
            "Format           3 non-null object\n",
            "Downloaded       1 non-null object\n",
            "dtypes: int64(3), object(10)\n",
            "memory usage: 392.0+ bytes\n",
            "None\n",
            "3\n",
            "Dataset (images) shape: (3, 192, 192, 160)\n"
          ],
          "name": "stdout"
        }
      ]
    },
    {
      "cell_type": "code",
      "metadata": {
        "id": "_XFKrnOdijie",
        "colab_type": "code",
        "outputId": "3857e796-52b7-44d3-f815-6125c9c1d3e4",
        "colab": {
          "base_uri": "https://localhost:8080/",
          "height": 221
        }
      },
      "source": [
        "plt.figure(figsize=[5,5])\n",
        "\n",
        "# Display the first image in training data\n",
        "plt.subplot(121)\n",
        "curr_img = images[1,160]\n",
        "plt.imshow(curr_img, cmap='gray')\n",
        "\n"
      ],
      "execution_count": 30,
      "outputs": [
        {
          "output_type": "execute_result",
          "data": {
            "text/plain": [
              "<matplotlib.image.AxesImage at 0x7f7f72e159b0>"
            ]
          },
          "metadata": {
            "tags": []
          },
          "execution_count": 30
        },
        {
          "output_type": "display_data",
          "data": {
            "image/png": "[encoded data removed]",
            "text/plain": [
              "<Figure size 360x360 with 1 Axes>"
            ]
          },
          "metadata": {
            "tags": []
          }
        }
      ]
    },
    {
      "cell_type": "code",
      "metadata": {
        "id": "f0qmDRLSjfWm",
        "colab_type": "code",
        "outputId": "61702f9f-2a1f-48af-ce6b-8714c530dacb",
        "colab": {
          "base_uri": "https://localhost:8080/",
          "height": 380
        }
      },
      "source": [
        "from sklearn import preprocessing\n",
        "batch_size = 3\n",
        "epochs = 10\n",
        "inChannel = 160\n",
        "x, y = 192, 192\n",
        "n = []\n",
        "#print(input_img.shape)\n",
        "input_img = Input(shape = (x, y, inChannel))\n",
        "print(input_img.shape)\n",
        "Y = df.Group.value_counts()\n",
        "Y = df['Group']\n",
        "Y = Y.values.reshape(-1, 1)\n",
        "ohe = preprocessing.OneHotEncoder()\n",
        "ohe.fit(Y)\n",
        "Y = ohe.transform(Y)\n",
        "#model = Sequential()\n",
        "# Add a convolutional layer\n",
        "def lenet5(input_img):\n",
        "  conv1 = Conv2D(32, (3, 3), activation='relu', padding='same')(input_img) #28 x 28 x 32\n",
        "  conv1 = BatchNormalization()(conv1)\n",
        "  conv1 = Conv2D(32, (3, 3), activation='relu', padding='same')(conv1)\n",
        "  conv1 = BatchNormalization()(conv1)\n",
        "  pool1 = MaxPooling2D(pool_size=(2, 2))(conv1) #14 x 14 x 32\n",
        "  conv2 = Conv2D(64, (3, 3), activation='relu', padding='same')(pool1) #14 x 14 x 64\n",
        "  conv2 = BatchNormalization()(conv2)\n",
        "  conv2 = Conv2D(64, (3, 3), activation='relu', padding='same')(conv2)\n",
        "  conv2 = BatchNormalization()(conv2)\n",
        "  pool2 = MaxPooling2D(pool_size=(2, 2))(conv2) #7 x 7 x 64\n",
        "  conv3 = Conv2D(128, (3, 3), activation='relu', padding='same')(pool2) #7 x 7 x 128 (small and thick)\n",
        "  conv3 = BatchNormalization()(conv3)\n",
        "  conv3 = Conv2D(128, (3, 3), activation='relu', padding='same')(conv3)\n",
        "  flat = Flatten()(conv3)\n",
        "  dense1 = Dense(3)(flat)\n",
        "  return dense1\n",
        "lenet5 = Model(input_img, lenet5(input_img))\n",
        "lenet5.compile(optimizer='adam', \n",
        "              loss='categorical_crossentropy', \n",
        "              metrics=['accuracy'])\n",
        "lenet5_train = lenet5.fit(images, Y, batch_size=batch_size,epochs=epochs,verbose=1)"
      ],
      "execution_count": 25,
      "outputs": [
        {
          "output_type": "stream",
          "text": [
            "(?, 192, 192, 160)\n",
            "Epoch 1/10\n",
            "3/3 [==============================] - 4s 1s/step - loss: 6.5540 - acc: 0.3333\n",
            "Epoch 2/10\n",
            "3/3 [==============================] - 2s 775ms/step - loss: 5.3727 - acc: 0.3333\n",
            "Epoch 3/10\n",
            "3/3 [==============================] - 2s 750ms/step - loss: 5.3727 - acc: 0.3333\n",
            "Epoch 4/10\n",
            "3/3 [==============================] - 2s 739ms/step - loss: 5.3727 - acc: 0.3333\n",
            "Epoch 5/10\n",
            "3/3 [==============================] - 2s 740ms/step - loss: 5.3727 - acc: 0.3333\n",
            "Epoch 6/10\n",
            "3/3 [==============================] - 2s 741ms/step - loss: 5.3727 - acc: 0.3333\n",
            "Epoch 7/10\n",
            "3/3 [==============================] - 2s 742ms/step - loss: 5.3727 - acc: 0.3333\n",
            "Epoch 8/10\n",
            "3/3 [==============================] - 2s 748ms/step - loss: 5.3727 - acc: 0.3333\n",
            "Epoch 9/10\n",
            "3/3 [==============================] - 2s 753ms/step - loss: 5.3727 - acc: 0.3333\n",
            "Epoch 10/10\n",
            "3/3 [==============================] - 2s 753ms/step - loss: 5.3727 - acc: 0.3333\n"
          ],
          "name": "stdout"
        }
      ]
    }
  ]
}