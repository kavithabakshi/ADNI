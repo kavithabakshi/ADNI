{
  "nbformat": 4,
  "nbformat_minor": 0,
  "metadata": {
    "colab": {
      "name": "Untitled1.ipynb",
      "version": "0.3.2",
      "provenance": [],
      "include_colab_link": true
    },
    "kernelspec": {
      "name": "python3",
      "display_name": "Python 3"
    }
  },
  "cells": [
    {
      "cell_type": "markdown",
      "metadata": {
        "id": "view-in-github",
        "colab_type": "text"
      },
      "source": [
        "<a href=\"https://colab.research.google.com/github/kavithabakshi/ADNI/blob/master/ADNI_1.ipynb\" target=\"_parent\"><img src=\"https://colab.research.google.com/assets/colab-badge.svg\" alt=\"Open In Colab\"/></a>"
      ]
    },
    {
      "cell_type": "code",
      "metadata": {
        "id": "EdSg6I3XUcrN",
        "colab_type": "code",
        "outputId": "b72709db-e3ce-47b7-e8c5-5d72c72249d3",
        "colab": {
          "base_uri": "https://localhost:8080/",
          "height": 34
        }
      },
      "source": [
        "#Ganesha\n",
        "import cv2\n",
        "from keras.layers import Input, Dense, Conv2D, Flatten, MaxPooling2D\n",
        "from keras.layers.normalization import BatchNormalization\n",
        "from keras.models import Sequential, Model\n",
        "from keras.optimizers import SGD, Adam, RMSprop\n",
        "import numpy as np\n",
        "from PIL import Image, ImageDraw, ImageFont\n",
        "import nibabel as nib #reading MRI images\n",
        "#from sklearn.cross_validation import train_test_split\n",
        "from matplotlib import pyplot as plt\n",
        "%matplotlib inline\n",
        "import pandas as pd\n",
        "import glob"
      ],
      "execution_count": 1,
      "outputs": [
        {
          "output_type": "stream",
          "text": [
            "Using TensorFlow backend.\n"
          ],
          "name": "stderr"
        }
      ]
    },
    {
      "cell_type": "code",
      "metadata": {
        "id": "QFwPlosFfV04",
        "colab_type": "code",
        "outputId": "9eb7f31a-2fd9-4c3a-aefa-3086884b831d",
        "colab": {
          "base_uri": "https://localhost:8080/",
          "height": 69
        }
      },
      "source": [
        "# Code to read csv file into Colaboratory:\n",
        "!pip install -U -q PyDrive\n",
        "from pydrive.auth import GoogleAuth\n",
        "from pydrive.drive import GoogleDrive\n",
        "from google.colab import auth\n",
        "from oauth2client.client import GoogleCredentials\n",
        "# Authenticate and create the PyDrive client.\n",
        "auth.authenticate_user()\n",
        "gauth = GoogleAuth()\n",
        "gauth.credentials = GoogleCredentials.get_application_default()\n",
        "drive = GoogleDrive(gauth)\n",
        "link = 'https://drive.google.com/open?id=1JWZGDUIC6JGNG8s6NuRPNk534Qpr2Dru'\n",
        "fluff, id = link.split('=')\n",
        "print (id) # Verify that you have everything after '='\n",
        "downloaded = drive.CreateFile({'id':id}) "
      ],
      "execution_count": 2,
      "outputs": [
        {
          "output_type": "stream",
          "text": [
            "\u001b[?25l\r\u001b[K     |▎                               | 10kB 14.7MB/s eta 0:00:01\r\u001b[K     |▋                               | 20kB 1.8MB/s eta 0:00:01\r\u001b[K     |█                               | 30kB 2.6MB/s eta 0:00:01\r\u001b[K     |█▎                              | 40kB 1.7MB/s eta 0:00:01\r\u001b[K     |█▋                              | 51kB 2.1MB/s eta 0:00:01\r\u001b[K     |██                              | 61kB 2.5MB/s eta 0:00:01\r\u001b[K     |██▎                             | 71kB 2.7MB/s eta 0:00:01\r\u001b[K     |██▋                             | 81kB 3.0MB/s eta 0:00:01\r\u001b[K     |███                             | 92kB 3.4MB/s eta 0:00:01\r\u001b[K     |███▎                            | 102kB 2.8MB/s eta 0:00:01\r\u001b[K     |███▋                            | 112kB 2.8MB/s eta 0:00:01\r\u001b[K     |████                            | 122kB 2.8MB/s eta 0:00:01\r\u001b[K     |████▎                           | 133kB 2.8MB/s eta 0:00:01\r\u001b[K     |████▋                           | 143kB 2.8MB/s eta 0:00:01\r\u001b[K     |█████                           | 153kB 2.8MB/s eta 0:00:01\r\u001b[K     |█████▎                          | 163kB 2.8MB/s eta 0:00:01\r\u001b[K     |█████▋                          | 174kB 2.8MB/s eta 0:00:01\r\u001b[K     |██████                          | 184kB 2.8MB/s eta 0:00:01\r\u001b[K     |██████▎                         | 194kB 2.8MB/s eta 0:00:01\r\u001b[K     |██████▋                         | 204kB 2.8MB/s eta 0:00:01\r\u001b[K     |███████                         | 215kB 2.8MB/s eta 0:00:01\r\u001b[K     |███████▎                        | 225kB 2.8MB/s eta 0:00:01\r\u001b[K     |███████▋                        | 235kB 2.8MB/s eta 0:00:01\r\u001b[K     |████████                        | 245kB 2.8MB/s eta 0:00:01\r\u001b[K     |████████▎                       | 256kB 2.8MB/s eta 0:00:01\r\u001b[K     |████████▋                       | 266kB 2.8MB/s eta 0:00:01\r\u001b[K     |█████████                       | 276kB 2.8MB/s eta 0:00:01\r\u001b[K     |█████████▎                      | 286kB 2.8MB/s eta 0:00:01\r\u001b[K     |█████████▋                      | 296kB 2.8MB/s eta 0:00:01\r\u001b[K     |██████████                      | 307kB 2.8MB/s eta 0:00:01\r\u001b[K     |██████████▎                     | 317kB 2.8MB/s eta 0:00:01\r\u001b[K     |██████████▋                     | 327kB 2.8MB/s eta 0:00:01\r\u001b[K     |███████████                     | 337kB 2.8MB/s eta 0:00:01\r\u001b[K     |███████████▎                    | 348kB 2.8MB/s eta 0:00:01\r\u001b[K     |███████████▋                    | 358kB 2.8MB/s eta 0:00:01\r\u001b[K     |████████████                    | 368kB 2.8MB/s eta 0:00:01\r\u001b[K     |████████████▎                   | 378kB 2.8MB/s eta 0:00:01\r\u001b[K     |████████████▋                   | 389kB 2.8MB/s eta 0:00:01\r\u001b[K     |█████████████                   | 399kB 2.8MB/s eta 0:00:01\r\u001b[K     |█████████████▎                  | 409kB 2.8MB/s eta 0:00:01\r\u001b[K     |█████████████▋                  | 419kB 2.8MB/s eta 0:00:01\r\u001b[K     |██████████████                  | 430kB 2.8MB/s eta 0:00:01\r\u001b[K     |██████████████▎                 | 440kB 2.8MB/s eta 0:00:01\r\u001b[K     |██████████████▋                 | 450kB 2.8MB/s eta 0:00:01\r\u001b[K     |███████████████                 | 460kB 2.8MB/s eta 0:00:01\r\u001b[K     |███████████████▎                | 471kB 2.8MB/s eta 0:00:01\r\u001b[K     |███████████████▋                | 481kB 2.8MB/s eta 0:00:01\r\u001b[K     |████████████████                | 491kB 2.8MB/s eta 0:00:01\r\u001b[K     |████████████████▎               | 501kB 2.8MB/s eta 0:00:01\r\u001b[K     |████████████████▋               | 512kB 2.8MB/s eta 0:00:01\r\u001b[K     |█████████████████               | 522kB 2.8MB/s eta 0:00:01\r\u001b[K     |█████████████████▎              | 532kB 2.8MB/s eta 0:00:01\r\u001b[K     |█████████████████▋              | 542kB 2.8MB/s eta 0:00:01\r\u001b[K     |██████████████████              | 552kB 2.8MB/s eta 0:00:01\r\u001b[K     |██████████████████▎             | 563kB 2.8MB/s eta 0:00:01\r\u001b[K     |██████████████████▋             | 573kB 2.8MB/s eta 0:00:01\r\u001b[K     |███████████████████             | 583kB 2.8MB/s eta 0:00:01\r\u001b[K     |███████████████████▎            | 593kB 2.8MB/s eta 0:00:01\r\u001b[K     |███████████████████▋            | 604kB 2.8MB/s eta 0:00:01\r\u001b[K     |████████████████████            | 614kB 2.8MB/s eta 0:00:01\r\u001b[K     |████████████████████▎           | 624kB 2.8MB/s eta 0:00:01\r\u001b[K     |████████████████████▋           | 634kB 2.8MB/s eta 0:00:01\r\u001b[K     |█████████████████████           | 645kB 2.8MB/s eta 0:00:01\r\u001b[K     |█████████████████████▎          | 655kB 2.8MB/s eta 0:00:01\r\u001b[K     |█████████████████████▋          | 665kB 2.8MB/s eta 0:00:01\r\u001b[K     |██████████████████████          | 675kB 2.8MB/s eta 0:00:01\r\u001b[K     |██████████████████████▎         | 686kB 2.8MB/s eta 0:00:01\r\u001b[K     |██████████████████████▋         | 696kB 2.8MB/s eta 0:00:01\r\u001b[K     |███████████████████████         | 706kB 2.8MB/s eta 0:00:01\r\u001b[K     |███████████████████████▎        | 716kB 2.8MB/s eta 0:00:01\r\u001b[K     |███████████████████████▋        | 727kB 2.8MB/s eta 0:00:01\r\u001b[K     |████████████████████████        | 737kB 2.8MB/s eta 0:00:01\r\u001b[K     |████████████████████████▎       | 747kB 2.8MB/s eta 0:00:01\r\u001b[K     |████████████████████████▋       | 757kB 2.8MB/s eta 0:00:01\r\u001b[K     |████████████████████████▉       | 768kB 2.8MB/s eta 0:00:01\r\u001b[K     |█████████████████████████▏      | 778kB 2.8MB/s eta 0:00:01\r\u001b[K     |█████████████████████████▌      | 788kB 2.8MB/s eta 0:00:01\r\u001b[K     |█████████████████████████▉      | 798kB 2.8MB/s eta 0:00:01\r\u001b[K     |██████████████████████████▏     | 808kB 2.8MB/s eta 0:00:01\r\u001b[K     |██████████████████████████▌     | 819kB 2.8MB/s eta 0:00:01\r\u001b[K     |██████████████████████████▉     | 829kB 2.8MB/s eta 0:00:01\r\u001b[K     |███████████████████████████▏    | 839kB 2.8MB/s eta 0:00:01\r\u001b[K     |███████████████████████████▌    | 849kB 2.8MB/s eta 0:00:01\r\u001b[K     |███████████████████████████▉    | 860kB 2.8MB/s eta 0:00:01\r\u001b[K     |████████████████████████████▏   | 870kB 2.8MB/s eta 0:00:01\r\u001b[K     |████████████████████████████▌   | 880kB 2.8MB/s eta 0:00:01\r\u001b[K     |████████████████████████████▉   | 890kB 2.8MB/s eta 0:00:01\r\u001b[K     |█████████████████████████████▏  | 901kB 2.8MB/s eta 0:00:01\r\u001b[K     |█████████████████████████████▌  | 911kB 2.8MB/s eta 0:00:01\r\u001b[K     |█████████████████████████████▉  | 921kB 2.8MB/s eta 0:00:01\r\u001b[K     |██████████████████████████████▏ | 931kB 2.8MB/s eta 0:00:01\r\u001b[K     |██████████████████████████████▌ | 942kB 2.8MB/s eta 0:00:01\r\u001b[K     |██████████████████████████████▉ | 952kB 2.8MB/s eta 0:00:01\r\u001b[K     |███████████████████████████████▏| 962kB 2.8MB/s eta 0:00:01\r\u001b[K     |███████████████████████████████▌| 972kB 2.8MB/s eta 0:00:01\r\u001b[K     |███████████████████████████████▉| 983kB 2.8MB/s eta 0:00:01\r\u001b[K     |████████████████████████████████| 993kB 2.8MB/s \n",
            "\u001b[?25h  Building wheel for PyDrive (setup.py) ... \u001b[?25l\u001b[?25hdone\n",
            "1JWZGDUIC6JGNG8s6NuRPNk534Qpr2Dru\n"
          ],
          "name": "stdout"
        }
      ]
    },
    {
      "cell_type": "code",
      "metadata": {
        "id": "5x8LU12EbZH_",
        "colab_type": "code",
        "outputId": "56939dcf-3600-4690-c958-7601ee80c5c7",
        "colab": {
          "base_uri": "https://localhost:8080/",
          "height": 397
        }
      },
      "source": [
        "ADNI_csv = 'https://raw.githubusercontent.com/kavithabakshi/ADNI/master/ADNI1_Complete_1Yr_1.5T_4_14_2019.csv'\n",
        "df = pd.read_csv(ADNI_csv, delimiter= ',')\n",
        "print(df.info())\n",
        "filename = df['FileName']\n",
        "print(len(filename))\n",
        "images = []\n",
        "for f in range(len(filename)):\n",
        "    downloaded.GetContentFile(filename[f])  \n",
        "    a = nib.load(filename[f])\n",
        "    a = a.get_data()\n",
        "    for i in range(a.shape[1]):\n",
        "        images.append((a[:,i,:]))\n",
        "      #images.append(a)\n",
        "#print (a.shape)\n",
        "#a[:,0,:].shape\n",
        "images = np.asarray(images)\n",
        "images.shape\n",
        "images = images.reshape(-1, 192,160,1)\n",
        "print(images.shape)\n",
        "m = np.max(images)\n",
        "mi = np.min(images)\n",
        "images = (images - mi) / (m - mi)\n",
        "np.min(images), np.max(images)\n",
        "print(\"Dataset (images) shape: {shape}\".format(shape=images.shape))"
      ],
      "execution_count": 3,
      "outputs": [
        {
          "output_type": "stream",
          "text": [
            "<class 'pandas.core.frame.DataFrame'>\n",
            "RangeIndex: 6 entries, 0 to 5\n",
            "Data columns (total 13 columns):\n",
            "FileName         6 non-null object\n",
            "Image Data ID    6 non-null int64\n",
            "Subject          6 non-null object\n",
            "Group            6 non-null object\n",
            "Sex              6 non-null object\n",
            "Age              6 non-null int64\n",
            "Visit            6 non-null int64\n",
            "Modality         6 non-null object\n",
            "Description      6 non-null object\n",
            "Type             6 non-null object\n",
            "Acq Date         6 non-null object\n",
            "Format           6 non-null object\n",
            "Downloaded       1 non-null object\n",
            "dtypes: int64(3), object(10)\n",
            "memory usage: 704.0+ bytes\n",
            "None\n",
            "6\n",
            "(1152, 192, 160, 1)\n",
            "Dataset (images) shape: (1152, 192, 160, 1)\n"
          ],
          "name": "stdout"
        }
      ]
    },
    {
      "cell_type": "code",
      "metadata": {
        "id": "rWocgZAHcZmb",
        "colab_type": "code",
        "outputId": "e31fa8d4-56e4-435b-b30e-d5ed81d7a865",
        "colab": {
          "base_uri": "https://localhost:8080/",
          "height": 380
        }
      },
      "source": [
        "ADNI_csv = 'https://raw.githubusercontent.com/kavithabakshi/ADNI/master/ADNI1_Complete_1Yr_1.5T_4_14_2019.csv'\n",
        "df = pd.read_csv(ADNI_csv, delimiter= ',')\n",
        "print(df.info())\n",
        "filename = df['FileName']\n",
        "print(len(filename))\n",
        "images = []\n",
        "data = []\n",
        "for f in range(len(filename)):\n",
        "  downloaded.GetContentFile(filename[f])  \n",
        "  a = nib.load(filename[f])\n",
        "  a = a.get_data()\n",
        "  #images = cv2.resize(a, (192, 160))\n",
        "  data.append(a)\n",
        "#print(images.shape)\n",
        "images = np.array(data, dtype=\"float\") / 255.0\n",
        "print(\"Dataset (images) shape: {shape}\".format(shape=images.shape))"
      ],
      "execution_count": 4,
      "outputs": [
        {
          "output_type": "stream",
          "text": [
            "<class 'pandas.core.frame.DataFrame'>\n",
            "RangeIndex: 6 entries, 0 to 5\n",
            "Data columns (total 13 columns):\n",
            "FileName         6 non-null object\n",
            "Image Data ID    6 non-null int64\n",
            "Subject          6 non-null object\n",
            "Group            6 non-null object\n",
            "Sex              6 non-null object\n",
            "Age              6 non-null int64\n",
            "Visit            6 non-null int64\n",
            "Modality         6 non-null object\n",
            "Description      6 non-null object\n",
            "Type             6 non-null object\n",
            "Acq Date         6 non-null object\n",
            "Format           6 non-null object\n",
            "Downloaded       1 non-null object\n",
            "dtypes: int64(3), object(10)\n",
            "memory usage: 704.0+ bytes\n",
            "None\n",
            "6\n",
            "Dataset (images) shape: (6, 192, 192, 160)\n"
          ],
          "name": "stdout"
        }
      ]
    },
    {
      "cell_type": "code",
      "metadata": {
        "colab_type": "code",
        "outputId": "b56f4054-39ca-4507-c338-02a0948ded7f",
        "id": "hToCDRWFw_A7",
        "colab": {
          "base_uri": "https://localhost:8080/",
          "height": 380
        }
      },
      "source": [
        "ADNI_csv1 = 'https://raw.githubusercontent.com/kavithabakshi/ADNI/master/ADNI1_Complete_1Yr_1.5T_4_14_2019%20_test.csv'\n",
        "df1 = pd.read_csv(ADNI_csv1, delimiter= ',')\n",
        "print(df1.info())\n",
        "filename = df1['FileName']\n",
        "print(len(filename))\n",
        "images1 = []\n",
        "data1 = []\n",
        "for f in range(len(filename)):\n",
        "  downloaded.GetContentFile(filename[f])  \n",
        "  a1 = nib.load(filename[f])\n",
        "  a1 = a1.get_data()\n",
        "  #images = cv2.resize(a, (192, 160))\n",
        "  data1.append(a1)\n",
        "#print(images.shape)\n",
        "images1 = np.array(data1, dtype=\"float\") / 255.0\n",
        "print(\"Dataset (images) shape: {shape}\".format(shape=images1.shape))"
      ],
      "execution_count": 5,
      "outputs": [
        {
          "output_type": "stream",
          "text": [
            "<class 'pandas.core.frame.DataFrame'>\n",
            "RangeIndex: 3 entries, 0 to 2\n",
            "Data columns (total 13 columns):\n",
            "FileName         3 non-null object\n",
            "Image Data ID    3 non-null int64\n",
            "Subject          3 non-null object\n",
            "Group            3 non-null object\n",
            "Sex              3 non-null object\n",
            "Age              3 non-null int64\n",
            "Visit            3 non-null int64\n",
            "Modality         3 non-null object\n",
            "Description      3 non-null object\n",
            "Type             3 non-null object\n",
            "Acq Date         3 non-null object\n",
            "Format           3 non-null object\n",
            "Downloaded       0 non-null float64\n",
            "dtypes: float64(1), int64(3), object(9)\n",
            "memory usage: 392.0+ bytes\n",
            "None\n",
            "3\n",
            "Dataset (images) shape: (3, 192, 192, 160)\n"
          ],
          "name": "stdout"
        }
      ]
    },
    {
      "cell_type": "code",
      "metadata": {
        "id": "_XFKrnOdijie",
        "colab_type": "code",
        "outputId": "3ba6e759-e671-4b81-c7ce-ac070fef8d0c",
        "colab": {
          "base_uri": "https://localhost:8080/",
          "height": 221
        }
      },
      "source": [
        "plt.figure(figsize=[5,5])\n",
        "\n",
        "# Display the first image in training data\n",
        "plt.subplot(121)\n",
        "curr_img = images[1,115]\n",
        "plt.imshow(curr_img, cmap='gray')\n",
        "\n"
      ],
      "execution_count": 24,
      "outputs": [
        {
          "output_type": "execute_result",
          "data": {
            "text/plain": [
              "<matplotlib.image.AxesImage at 0x7f2052ad5b00>"
            ]
          },
          "metadata": {
            "tags": []
          },
          "execution_count": 24
        },
        {
          "output_type": "display_data",
          "data": {
            "image/png": "[encoded data removed]",
            "text/plain": [
              "<Figure size 360x360 with 1 Axes>"
            ]
          },
          "metadata": {
            "tags": []
          }
        }
      ]
    },
    {
      "cell_type": "code",
      "metadata": {
        "id": "f0qmDRLSjfWm",
        "colab_type": "code",
        "outputId": "4ad8a97b-b18c-4f45-b960-11c4409a56e2",
        "colab": {
          "base_uri": "https://localhost:8080/",
          "height": 415
        }
      },
      "source": [
        "from sklearn import preprocessing\n",
        "from keras.layers import AveragePooling2D\n",
        "batch_size = 3\n",
        "epochs = 10\n",
        "inChannel = 160\n",
        "x, y = 192, 192\n",
        "n = []\n",
        "#print(input_img.shape)\n",
        "input_img = Input(shape = (x, y, inChannel))\n",
        "print(input_img.shape)\n",
        "Y = df.Group.value_counts()\n",
        "Y = df['Group']\n",
        "Y = Y.values.reshape(-1, 1)\n",
        "ohe = preprocessing.OneHotEncoder()\n",
        "ohe.fit(Y)\n",
        "Y = ohe.transform(Y)\n",
        "Y1 = df1.Group.value_counts()\n",
        "Y1 = df1['Group']\n",
        "Y1 = Y1.values.reshape(-1, 1)\n",
        "ohe = preprocessing.OneHotEncoder()\n",
        "ohe.fit(Y1)\n",
        "Y1 = ohe.transform(Y1)\n",
        "#model = Sequential()\n",
        "# Add a convolutional layer\n",
        "def lenet5(input_img):\n",
        "  conv1 = Conv2D(32, (5, 5), activation='relu', padding='same')(input_img) \n",
        "  pool1 = AveragePooling2D(10)(conv1)\n",
        "  conv2 = Conv2D(16, (3, 3), activation='relu', padding='same')(pool1)\n",
        "  pool2 = AveragePooling2D(10)(conv2)\n",
        "  flat = Flatten()(pool2)\n",
        "  dense1 = Dense(120)(flat)\n",
        "  dense2 = Dense(60)(dense1)\n",
        "  dense3 = Dense(3)(dense2)\n",
        "  return dense3\n",
        "lenet5 = Model(input_img, lenet5(input_img))\n",
        "lenet5.compile(optimizer='adam', \n",
        "              loss='categorical_crossentropy', \n",
        "              metrics=['accuracy'])\n",
        "score = lenet5.fit(images, Y, batch_size=batch_size,epochs=epochs,verbose=1, validation_data=(images1, Y1))\n",
        "#score = lenet5.evaluate(images1, Y1, batch_size=3)\n",
        "print(score)"
      ],
      "execution_count": 0,
      "outputs": [
        {
          "output_type": "stream",
          "text": [
            "(?, 192, 192, 160)\n",
            "Train on 6 samples, validate on 3 samples\n",
            "Epoch 1/10\n",
            "6/6 [==============================] - 7s 1s/step - loss: 5.3727 - acc: 0.3333 - val_loss: 5.3727 - val_acc: 0.3333\n",
            "Epoch 2/10\n",
            "6/6 [==============================] - 6s 975ms/step - loss: 5.3727 - acc: 0.3333 - val_loss: 5.3727 - val_acc: 0.3333\n",
            "Epoch 3/10\n",
            "6/6 [==============================] - 6s 979ms/step - loss: 5.3727 - acc: 0.3333 - val_loss: 5.3727 - val_acc: 0.3333\n",
            "Epoch 4/10\n",
            "6/6 [==============================] - 6s 981ms/step - loss: 5.3727 - acc: 0.3333 - val_loss: 5.3727 - val_acc: 0.3333\n",
            "Epoch 5/10\n",
            "6/6 [==============================] - 6s 986ms/step - loss: 5.3727 - acc: 0.3333 - val_loss: 5.3727 - val_acc: 0.3333\n",
            "Epoch 6/10\n",
            "6/6 [==============================] - 6s 977ms/step - loss: 5.3727 - acc: 0.3333 - val_loss: 5.3727 - val_acc: 0.3333\n",
            "Epoch 7/10\n",
            "6/6 [==============================] - 6s 978ms/step - loss: 5.3727 - acc: 0.3333 - val_loss: 5.3727 - val_acc: 0.3333\n",
            "Epoch 8/10\n",
            "6/6 [==============================] - 6s 967ms/step - loss: 5.3727 - acc: 0.3333 - val_loss: 5.3727 - val_acc: 0.3333\n",
            "Epoch 9/10\n",
            "6/6 [==============================] - 6s 976ms/step - loss: 5.3727 - acc: 0.3333 - val_loss: 5.3727 - val_acc: 0.3333\n",
            "Epoch 10/10\n",
            "6/6 [==============================] - 6s 966ms/step - loss: 5.3727 - acc: 0.3333 - val_loss: 5.3727 - val_acc: 0.3333\n",
            "<keras.callbacks.History object at 0x7ffa054bdeb8>\n"
          ],
          "name": "stdout"
        }
      ]
    }
  ]
}