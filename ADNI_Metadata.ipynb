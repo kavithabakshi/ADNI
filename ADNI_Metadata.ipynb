{
  "nbformat": 4,
  "nbformat_minor": 0,
  "metadata": {
    "colab": {
      "name": "Untitled2.ipynb",
      "version": "0.3.2",
      "provenance": [],
      "collapsed_sections": [],
      "include_colab_link": true
    },
    "kernelspec": {
      "name": "python3",
      "display_name": "Python 3"
    }
  },
  "cells": [
    {
      "cell_type": "markdown",
      "metadata": {
        "id": "view-in-github",
        "colab_type": "text"
      },
      "source": [
        "<a href=\"https://colab.research.google.com/github/kavithabakshi/ADNI/blob/master/ADNI_Metadata.ipynb\" target=\"_parent\"><img src=\"https://colab.research.google.com/assets/colab-badge.svg\" alt=\"Open In Colab\"/></a>"
      ]
    },
    {
      "cell_type": "code",
      "metadata": {
        "id": "sFQZjum0So-D",
        "colab_type": "code",
        "outputId": "1dbcf702-4ed0-41ef-fb96-f00a13f3cc08",
        "colab": {
          "base_uri": "https://localhost:8080/",
          "height": 518
        }
      },
      "source": [
        "import pandas as pd\n",
        "import matplotlib.pyplot as plt\n",
        "%matplotlib inline\n",
        "import warnings\n",
        "warnings.filterwarnings(\"ignore\")\n",
        "metadata_test = 'https://raw.githubusercontent.com/kavithabakshi/ADNI/master/ADNI_Metadata_test.csv'\n",
        "metadata = 'https://raw.githubusercontent.com/kavithabakshi/ADNI/master/ADNI_Metadata.csv'\n",
        "df = pd.read_csv(metadata, sep='\\s*,\\s*',delimiter = ',')\n",
        "print(df.shape)\n",
        "df_test = pd.read_csv(metadata_test, sep='\\s*,\\s*',delimiter = ',')\n",
        "print(df_test.shape)\n",
        "df_cn=df[df['researchGroup']==\"CN\"]\n",
        "print(df_cn.shape)\n",
        "df_ad=df[df['researchGroup']==\"AD\"]\n",
        "print(df_ad.shape)\n",
        "df_mci=df[df['researchGroup']==\"MCI\"]\n",
        "print(df_mci.shape)\n",
        "df.info()\n",
        "df.isnull().sum()"
      ],
      "execution_count": 3,
      "outputs": [
        {
          "output_type": "stream",
          "text": [
            "(1599, 9)\n",
            "(688, 9)\n",
            "(490, 9)\n",
            "(332, 9)\n",
            "(777, 9)\n",
            "<class 'pandas.core.frame.DataFrame'>\n",
            "RangeIndex: 1599 entries, 0 to 1598\n",
            "Data columns (total 9 columns):\n",
            "researchGroup    1599 non-null object\n",
            "subjectSex       1599 non-null object\n",
            "MMSCORE          1599 non-null int64\n",
            "GDTOTAL          1599 non-null int64\n",
            "CDGLOBAL         1599 non-null float64\n",
            "NPISCORE         1599 non-null int64\n",
            "FAQTOTAL         1599 non-null int64\n",
            "subjectAge       1599 non-null float64\n",
            "weightKg         1599 non-null float64\n",
            "dtypes: float64(3), int64(4), object(2)\n",
            "memory usage: 112.5+ KB\n"
          ],
          "name": "stdout"
        },
        {
          "output_type": "execute_result",
          "data": {
            "text/plain": [
              "researchGroup    0\n",
              "subjectSex       0\n",
              "MMSCORE          0\n",
              "GDTOTAL          0\n",
              "CDGLOBAL         0\n",
              "NPISCORE         0\n",
              "FAQTOTAL         0\n",
              "subjectAge       0\n",
              "weightKg         0\n",
              "dtype: int64"
            ]
          },
          "metadata": {
            "tags": []
          },
          "execution_count": 3
        }
      ]
    },
    {
      "cell_type": "code",
      "metadata": {
        "id": "jMboWsmOae1n",
        "colab_type": "code",
        "outputId": "11b8d02d-b985-47fc-ddbc-897300ea88e3",
        "colab": {
          "base_uri": "https://localhost:8080/",
          "height": 484
        }
      },
      "source": [
        "print(df.columns)\n",
        "y = df['researchGroup']\n",
        "print(y.shape)\n",
        "X = df.drop(['researchGroup'], axis=1)\n",
        "print(X.shape)\n",
        "X = pd.get_dummies(data = X, columns = ['subjectSex'] , prefix = ['subjectSex'] , drop_first = True)\n",
        "print(X.shape, '\\n', X.columns)\n",
        "X.head()\n",
        "y = pd.get_dummies(data = y, columns = ['researchGroup'] , prefix = ['researchGroup'] , drop_first = True)\n",
        "print(y.shape, '\\n', y.columns)\n",
        "y.head()\n",
        "print(df_test.columns)\n",
        "y_test = df_test['researchGroup']\n",
        "print(y_test.shape)\n",
        "X_test = df_test.drop(['researchGroup'], axis=1)\n",
        "print(X_test.shape)\n",
        "X_test = pd.get_dummies(data = X_test, columns = ['subjectSex'] , prefix = ['subjectSex'] , drop_first = True)\n",
        "print(X_test.shape, '\\n', X_test.columns)\n",
        "X_test.head()\n",
        "#y_test = pd.get_dummies(data = y_test, columns = ['researchGroup'] , prefix = ['researchGroup'] , drop_first = True)\n",
        "#print(y_test.shape, '\\n', y.columns)\n",
        "#y.head()\n",
        "lentest = y_test.shape\n",
        "lentest1 = lentest[0] - 1\n",
        "print(lentest1)\n",
        "for i in range(lentest1):\n",
        "  if (y_test[i] == \"CN\"):\n",
        "    y_test[i] = 0\n",
        "  elif (y_test[i] == \"MCI\"):\n",
        "    y_test[i] = 1\n",
        "  else:\n",
        "    y_test[i] = 2\n",
        "print(y_test.head())"
      ],
      "execution_count": 56,
      "outputs": [
        {
          "output_type": "stream",
          "text": [
            "Index(['researchGroup', 'subjectSex', 'MMSCORE', 'GDTOTAL', 'CDGLOBAL',\n",
            "       'NPISCORE', 'FAQTOTAL', 'subjectAge', 'weightKg'],\n",
            "      dtype='object')\n",
            "(1599,)\n",
            "(1599, 8)\n",
            "(1599, 8) \n",
            " Index(['MMSCORE', 'GDTOTAL', 'CDGLOBAL', 'NPISCORE', 'FAQTOTAL', 'subjectAge',\n",
            "       'weightKg', 'subjectSex_M'],\n",
            "      dtype='object')\n",
            "(1599, 2) \n",
            " Index(['['researchGroup']_CN', '['researchGroup']_MCI'], dtype='object')\n",
            "Index(['researchGroup', 'subjectSex', 'MMSCORE', 'GDTOTAL', 'CDGLOBAL',\n",
            "       'NPISCORE', 'FAQTOTAL', 'subjectAge', 'weightKg'],\n",
            "      dtype='object')\n",
            "(688,)\n",
            "(688, 8)\n",
            "(688, 8) \n",
            " Index(['MMSCORE', 'GDTOTAL', 'CDGLOBAL', 'NPISCORE', 'FAQTOTAL', 'subjectAge',\n",
            "       'weightKg', 'subjectSex_M'],\n",
            "      dtype='object')\n",
            "687\n",
            "0    2\n",
            "1    2\n",
            "2    2\n",
            "3    2\n",
            "4    2\n",
            "Name: researchGroup, dtype: object\n"
          ],
          "name": "stdout"
        }
      ]
    },
    {
      "cell_type": "code",
      "metadata": {
        "id": "URjO04qQgClC",
        "colab_type": "code",
        "outputId": "5f2bb09f-45c0-4f6c-d292-8332306944c7",
        "colab": {
          "base_uri": "https://localhost:8080/",
          "height": 34
        }
      },
      "source": [
        "from tensorflow.keras import layers\n",
        "from tensorflow import keras \n",
        "import tensorflow as tf\n",
        "from tensorflow.python.layers import base\n",
        "import tensorflow.contrib.slim as slim\n",
        "\n",
        "from keras.layers import Dense, Input, Embedding, Reshape, Dropout\n",
        "from keras.models import Model,Sequential\n",
        "from keras.layers.merge import concatenate\n",
        "from keras.wrappers.scikit_learn import KerasRegressor, KerasClassifier\n",
        "from keras.optimizers import SGD\n",
        "from keras.constraints import maxnorm"
      ],
      "execution_count": 5,
      "outputs": [
        {
          "output_type": "stream",
          "text": [
            "Using TensorFlow backend.\n"
          ],
          "name": "stderr"
        }
      ]
    },
    {
      "cell_type": "code",
      "metadata": {
        "id": "BO2phcDKgFLl",
        "colab_type": "code",
        "outputId": "f1d4fcfd-e5bb-491e-a3ad-33660f811b17",
        "colab": {
          "base_uri": "https://localhost:8080/",
          "height": 1088
        }
      },
      "source": [
        "from sklearn.metrics import accuracy_score, auc, roc_curve, confusion_matrix\n",
        "from sklearn.metrics import classification_report\n",
        "droprate = 0.1\n",
        "model = Sequential()\n",
        "model.add(Dense(128, input_dim=8, activation='relu'))\n",
        "model.add(Dropout(droprate))\n",
        "model.add(Dense(128, activation='relu'))\n",
        "model.add(Dropout(droprate))\n",
        "model.add(Dense(2, activation='sigmoid'))\n",
        "model.compile(loss='binary_crossentropy', optimizer='adam', metrics=['accuracy'])\n",
        "model.fit(X,y, epochs = 20)\n",
        "y_pred = model.predict(X_test)\n",
        "lenPred= y_pred.shape\n",
        "#y_pred = [\"CN\" if x[0] > 0.5 elif x[1] > 0.5 \"MCI\" else \"AD\"  for x in y_pred]\n",
        "y_pred1 = [x for x in y_pred]\n",
        "lenPred1 = lenPred[0] - 1\n",
        "print(lenPred1)\n",
        "for i in range(lenPred1):\n",
        "  if (y_pred[i][0] > 0.5):\n",
        "    y_pred1[i] = \"CN\"\n",
        "  elif (y_pred[i][1] > 0.5):\n",
        "    y_pred1[i] = \"MCI\"\n",
        "  else:\n",
        "    y_pred1[i] = \"AD\"\n",
        "\n",
        "dnn_score=round(accuracy_score(y_test, y_pred1) * 100,2)\n",
        "print(Title,'Dataset test accuracy_score',dnn_score)\n",
        "print(classification_report(y_test_balanced, y_pred))\n",
        " \n"
      ],
      "execution_count": 48,
      "outputs": [
        {
          "output_type": "stream",
          "text": [
            "Epoch 1/20\n",
            "1599/1599 [==============================] - 3s 2ms/step - loss: 1.7060 - acc: 0.5538\n",
            "Epoch 2/20\n",
            "1599/1599 [==============================] - 0s 123us/step - loss: 0.9496 - acc: 0.5801\n",
            "Epoch 3/20\n",
            "1599/1599 [==============================] - 0s 131us/step - loss: 0.7269 - acc: 0.6235\n",
            "Epoch 4/20\n",
            "1599/1599 [==============================] - 0s 114us/step - loss: 0.6384 - acc: 0.6510\n",
            "Epoch 5/20\n",
            "1599/1599 [==============================] - 0s 119us/step - loss: 0.5898 - acc: 0.6714\n",
            "Epoch 6/20\n",
            "1599/1599 [==============================] - 0s 122us/step - loss: 0.5766 - acc: 0.6817\n",
            "Epoch 7/20\n",
            "1599/1599 [==============================] - 0s 116us/step - loss: 0.5492 - acc: 0.6970\n",
            "Epoch 8/20\n",
            "1599/1599 [==============================] - 0s 92us/step - loss: 0.5402 - acc: 0.7045\n",
            "Epoch 9/20\n",
            "1599/1599 [==============================] - 0s 95us/step - loss: 0.5188 - acc: 0.7170\n",
            "Epoch 10/20\n",
            "1599/1599 [==============================] - 0s 93us/step - loss: 0.5005 - acc: 0.7339\n",
            "Epoch 11/20\n",
            "1599/1599 [==============================] - 0s 91us/step - loss: 0.4944 - acc: 0.7461\n",
            "Epoch 12/20\n",
            "1599/1599 [==============================] - 0s 92us/step - loss: 0.4751 - acc: 0.7702\n",
            "Epoch 13/20\n",
            "1599/1599 [==============================] - 0s 92us/step - loss: 0.4647 - acc: 0.7658\n",
            "Epoch 14/20\n",
            "1599/1599 [==============================] - 0s 94us/step - loss: 0.4296 - acc: 0.7877\n",
            "Epoch 15/20\n",
            "1599/1599 [==============================] - 0s 97us/step - loss: 0.4377 - acc: 0.7892\n",
            "Epoch 16/20\n",
            "1599/1599 [==============================] - 0s 94us/step - loss: 0.4175 - acc: 0.8061\n",
            "Epoch 17/20\n",
            "1599/1599 [==============================] - 0s 93us/step - loss: 0.4070 - acc: 0.8096\n",
            "Epoch 18/20\n",
            "1599/1599 [==============================] - 0s 90us/step - loss: 0.4147 - acc: 0.8049\n",
            "Epoch 19/20\n",
            "1599/1599 [==============================] - 0s 94us/step - loss: 0.3801 - acc: 0.8327\n",
            "Epoch 20/20\n",
            "1599/1599 [==============================] - 0s 90us/step - loss: 0.3629 - acc: 0.8449\n",
            "687\n"
          ],
          "name": "stdout"
        },
        {
          "output_type": "error",
          "ename": "TypeError",
          "evalue": "ignored",
          "traceback": [
            "\u001b[0;31m---------------------------------------------------------------------------\u001b[0m",
            "\u001b[0;31mTypeError\u001b[0m                                 Traceback (most recent call last)",
            "\u001b[0;32m<ipython-input-48-04c48167fbca>\u001b[0m in \u001b[0;36m<module>\u001b[0;34m()\u001b[0m\n\u001b[1;32m     23\u001b[0m   \u001b[0;32melse\u001b[0m\u001b[0;34m:\u001b[0m\u001b[0;34m\u001b[0m\u001b[0;34m\u001b[0m\u001b[0m\n\u001b[1;32m     24\u001b[0m     \u001b[0my_pred1\u001b[0m\u001b[0;34m[\u001b[0m\u001b[0mi\u001b[0m\u001b[0;34m]\u001b[0m \u001b[0;34m=\u001b[0m \u001b[0;34m\"AD\"\u001b[0m\u001b[0;34m\u001b[0m\u001b[0;34m\u001b[0m\u001b[0m\n\u001b[0;32m---> 25\u001b[0;31m \u001b[0mdnn_score\u001b[0m\u001b[0;34m=\u001b[0m\u001b[0mround\u001b[0m\u001b[0;34m(\u001b[0m\u001b[0maccuracy_score\u001b[0m\u001b[0;34m(\u001b[0m\u001b[0my_test\u001b[0m\u001b[0;34m,\u001b[0m \u001b[0my_pred1\u001b[0m\u001b[0;34m)\u001b[0m \u001b[0;34m*\u001b[0m \u001b[0;36m100\u001b[0m\u001b[0;34m,\u001b[0m\u001b[0;36m2\u001b[0m\u001b[0;34m)\u001b[0m\u001b[0;34m\u001b[0m\u001b[0;34m\u001b[0m\u001b[0m\n\u001b[0m\u001b[1;32m     26\u001b[0m \u001b[0mprint\u001b[0m\u001b[0;34m(\u001b[0m\u001b[0mTitle\u001b[0m\u001b[0;34m,\u001b[0m\u001b[0;34m'Dataset test accuracy_score'\u001b[0m\u001b[0;34m,\u001b[0m\u001b[0mdnn_score\u001b[0m\u001b[0;34m)\u001b[0m\u001b[0;34m\u001b[0m\u001b[0;34m\u001b[0m\u001b[0m\n\u001b[1;32m     27\u001b[0m \u001b[0mprint\u001b[0m\u001b[0;34m(\u001b[0m\u001b[0mclassification_report\u001b[0m\u001b[0;34m(\u001b[0m\u001b[0my_test_balanced\u001b[0m\u001b[0;34m,\u001b[0m \u001b[0my_pred\u001b[0m\u001b[0;34m)\u001b[0m\u001b[0;34m)\u001b[0m\u001b[0;34m\u001b[0m\u001b[0;34m\u001b[0m\u001b[0m\n",
            "\u001b[0;32m/usr/local/lib/python3.6/dist-packages/sklearn/metrics/classification.py\u001b[0m in \u001b[0;36maccuracy_score\u001b[0;34m(y_true, y_pred, normalize, sample_weight)\u001b[0m\n\u001b[1;32m    174\u001b[0m \u001b[0;34m\u001b[0m\u001b[0m\n\u001b[1;32m    175\u001b[0m     \u001b[0;31m# Compute accuracy for each possible representation\u001b[0m\u001b[0;34m\u001b[0m\u001b[0;34m\u001b[0m\u001b[0;34m\u001b[0m\u001b[0m\n\u001b[0;32m--> 176\u001b[0;31m     \u001b[0my_type\u001b[0m\u001b[0;34m,\u001b[0m \u001b[0my_true\u001b[0m\u001b[0;34m,\u001b[0m \u001b[0my_pred\u001b[0m \u001b[0;34m=\u001b[0m \u001b[0m_check_targets\u001b[0m\u001b[0;34m(\u001b[0m\u001b[0my_true\u001b[0m\u001b[0;34m,\u001b[0m \u001b[0my_pred\u001b[0m\u001b[0;34m)\u001b[0m\u001b[0;34m\u001b[0m\u001b[0;34m\u001b[0m\u001b[0m\n\u001b[0m\u001b[1;32m    177\u001b[0m     \u001b[0mcheck_consistent_length\u001b[0m\u001b[0;34m(\u001b[0m\u001b[0my_true\u001b[0m\u001b[0;34m,\u001b[0m \u001b[0my_pred\u001b[0m\u001b[0;34m,\u001b[0m \u001b[0msample_weight\u001b[0m\u001b[0;34m)\u001b[0m\u001b[0;34m\u001b[0m\u001b[0;34m\u001b[0m\u001b[0m\n\u001b[1;32m    178\u001b[0m     \u001b[0;32mif\u001b[0m \u001b[0my_type\u001b[0m\u001b[0;34m.\u001b[0m\u001b[0mstartswith\u001b[0m\u001b[0;34m(\u001b[0m\u001b[0;34m'multilabel'\u001b[0m\u001b[0;34m)\u001b[0m\u001b[0;34m:\u001b[0m\u001b[0;34m\u001b[0m\u001b[0;34m\u001b[0m\u001b[0m\n",
            "\u001b[0;32m/usr/local/lib/python3.6/dist-packages/sklearn/metrics/classification.py\u001b[0m in \u001b[0;36m_check_targets\u001b[0;34m(y_true, y_pred)\u001b[0m\n\u001b[1;32m     71\u001b[0m     \u001b[0mcheck_consistent_length\u001b[0m\u001b[0;34m(\u001b[0m\u001b[0my_true\u001b[0m\u001b[0;34m,\u001b[0m \u001b[0my_pred\u001b[0m\u001b[0;34m)\u001b[0m\u001b[0;34m\u001b[0m\u001b[0;34m\u001b[0m\u001b[0m\n\u001b[1;32m     72\u001b[0m     \u001b[0mtype_true\u001b[0m \u001b[0;34m=\u001b[0m \u001b[0mtype_of_target\u001b[0m\u001b[0;34m(\u001b[0m\u001b[0my_true\u001b[0m\u001b[0;34m)\u001b[0m\u001b[0;34m\u001b[0m\u001b[0;34m\u001b[0m\u001b[0m\n\u001b[0;32m---> 73\u001b[0;31m     \u001b[0mtype_pred\u001b[0m \u001b[0;34m=\u001b[0m \u001b[0mtype_of_target\u001b[0m\u001b[0;34m(\u001b[0m\u001b[0my_pred\u001b[0m\u001b[0;34m)\u001b[0m\u001b[0;34m\u001b[0m\u001b[0;34m\u001b[0m\u001b[0m\n\u001b[0m\u001b[1;32m     74\u001b[0m \u001b[0;34m\u001b[0m\u001b[0m\n\u001b[1;32m     75\u001b[0m     \u001b[0my_type\u001b[0m \u001b[0;34m=\u001b[0m \u001b[0mset\u001b[0m\u001b[0;34m(\u001b[0m\u001b[0;34m[\u001b[0m\u001b[0mtype_true\u001b[0m\u001b[0;34m,\u001b[0m \u001b[0mtype_pred\u001b[0m\u001b[0;34m]\u001b[0m\u001b[0;34m)\u001b[0m\u001b[0;34m\u001b[0m\u001b[0;34m\u001b[0m\u001b[0m\n",
            "\u001b[0;32m/usr/local/lib/python3.6/dist-packages/sklearn/utils/multiclass.py\u001b[0m in \u001b[0;36mtype_of_target\u001b[0;34m(y)\u001b[0m\n\u001b[1;32m    285\u001b[0m         \u001b[0;32mreturn\u001b[0m \u001b[0;34m'continuous'\u001b[0m \u001b[0;34m+\u001b[0m \u001b[0msuffix\u001b[0m\u001b[0;34m\u001b[0m\u001b[0;34m\u001b[0m\u001b[0m\n\u001b[1;32m    286\u001b[0m \u001b[0;34m\u001b[0m\u001b[0m\n\u001b[0;32m--> 287\u001b[0;31m     \u001b[0;32mif\u001b[0m \u001b[0;34m(\u001b[0m\u001b[0mlen\u001b[0m\u001b[0;34m(\u001b[0m\u001b[0mnp\u001b[0m\u001b[0;34m.\u001b[0m\u001b[0munique\u001b[0m\u001b[0;34m(\u001b[0m\u001b[0my\u001b[0m\u001b[0;34m)\u001b[0m\u001b[0;34m)\u001b[0m \u001b[0;34m>\u001b[0m \u001b[0;36m2\u001b[0m\u001b[0;34m)\u001b[0m \u001b[0;32mor\u001b[0m \u001b[0;34m(\u001b[0m\u001b[0my\u001b[0m\u001b[0;34m.\u001b[0m\u001b[0mndim\u001b[0m \u001b[0;34m>=\u001b[0m \u001b[0;36m2\u001b[0m \u001b[0;32mand\u001b[0m \u001b[0mlen\u001b[0m\u001b[0;34m(\u001b[0m\u001b[0my\u001b[0m\u001b[0;34m[\u001b[0m\u001b[0;36m0\u001b[0m\u001b[0;34m]\u001b[0m\u001b[0;34m)\u001b[0m \u001b[0;34m>\u001b[0m \u001b[0;36m1\u001b[0m\u001b[0;34m)\u001b[0m\u001b[0;34m:\u001b[0m\u001b[0;34m\u001b[0m\u001b[0;34m\u001b[0m\u001b[0m\n\u001b[0m\u001b[1;32m    288\u001b[0m         \u001b[0;32mreturn\u001b[0m \u001b[0;34m'multiclass'\u001b[0m \u001b[0;34m+\u001b[0m \u001b[0msuffix\u001b[0m  \u001b[0;31m# [1, 2, 3] or [[1., 2., 3]] or [[1, 2]]\u001b[0m\u001b[0;34m\u001b[0m\u001b[0;34m\u001b[0m\u001b[0m\n\u001b[1;32m    289\u001b[0m     \u001b[0;32melse\u001b[0m\u001b[0;34m:\u001b[0m\u001b[0;34m\u001b[0m\u001b[0;34m\u001b[0m\u001b[0m\n",
            "\u001b[0;32m/usr/local/lib/python3.6/dist-packages/numpy/lib/arraysetops.py\u001b[0m in \u001b[0;36munique\u001b[0;34m(ar, return_index, return_inverse, return_counts, axis)\u001b[0m\n\u001b[1;32m    262\u001b[0m     \u001b[0mar\u001b[0m \u001b[0;34m=\u001b[0m \u001b[0mnp\u001b[0m\u001b[0;34m.\u001b[0m\u001b[0masanyarray\u001b[0m\u001b[0;34m(\u001b[0m\u001b[0mar\u001b[0m\u001b[0;34m)\u001b[0m\u001b[0;34m\u001b[0m\u001b[0;34m\u001b[0m\u001b[0m\n\u001b[1;32m    263\u001b[0m     \u001b[0;32mif\u001b[0m \u001b[0maxis\u001b[0m \u001b[0;32mis\u001b[0m \u001b[0;32mNone\u001b[0m\u001b[0;34m:\u001b[0m\u001b[0;34m\u001b[0m\u001b[0;34m\u001b[0m\u001b[0m\n\u001b[0;32m--> 264\u001b[0;31m         \u001b[0mret\u001b[0m \u001b[0;34m=\u001b[0m \u001b[0m_unique1d\u001b[0m\u001b[0;34m(\u001b[0m\u001b[0mar\u001b[0m\u001b[0;34m,\u001b[0m \u001b[0mreturn_index\u001b[0m\u001b[0;34m,\u001b[0m \u001b[0mreturn_inverse\u001b[0m\u001b[0;34m,\u001b[0m \u001b[0mreturn_counts\u001b[0m\u001b[0;34m)\u001b[0m\u001b[0;34m\u001b[0m\u001b[0;34m\u001b[0m\u001b[0m\n\u001b[0m\u001b[1;32m    265\u001b[0m         \u001b[0;32mreturn\u001b[0m \u001b[0m_unpack_tuple\u001b[0m\u001b[0;34m(\u001b[0m\u001b[0mret\u001b[0m\u001b[0;34m)\u001b[0m\u001b[0;34m\u001b[0m\u001b[0;34m\u001b[0m\u001b[0m\n\u001b[1;32m    266\u001b[0m \u001b[0;34m\u001b[0m\u001b[0m\n",
            "\u001b[0;32m/usr/local/lib/python3.6/dist-packages/numpy/lib/arraysetops.py\u001b[0m in \u001b[0;36m_unique1d\u001b[0;34m(ar, return_index, return_inverse, return_counts)\u001b[0m\n\u001b[1;32m    310\u001b[0m         \u001b[0maux\u001b[0m \u001b[0;34m=\u001b[0m \u001b[0mar\u001b[0m\u001b[0;34m[\u001b[0m\u001b[0mperm\u001b[0m\u001b[0;34m]\u001b[0m\u001b[0;34m\u001b[0m\u001b[0;34m\u001b[0m\u001b[0m\n\u001b[1;32m    311\u001b[0m     \u001b[0;32melse\u001b[0m\u001b[0;34m:\u001b[0m\u001b[0;34m\u001b[0m\u001b[0;34m\u001b[0m\u001b[0m\n\u001b[0;32m--> 312\u001b[0;31m         \u001b[0mar\u001b[0m\u001b[0;34m.\u001b[0m\u001b[0msort\u001b[0m\u001b[0;34m(\u001b[0m\u001b[0;34m)\u001b[0m\u001b[0;34m\u001b[0m\u001b[0;34m\u001b[0m\u001b[0m\n\u001b[0m\u001b[1;32m    313\u001b[0m         \u001b[0maux\u001b[0m \u001b[0;34m=\u001b[0m \u001b[0mar\u001b[0m\u001b[0;34m\u001b[0m\u001b[0;34m\u001b[0m\u001b[0m\n\u001b[1;32m    314\u001b[0m     \u001b[0mmask\u001b[0m \u001b[0;34m=\u001b[0m \u001b[0mnp\u001b[0m\u001b[0;34m.\u001b[0m\u001b[0mempty\u001b[0m\u001b[0;34m(\u001b[0m\u001b[0maux\u001b[0m\u001b[0;34m.\u001b[0m\u001b[0mshape\u001b[0m\u001b[0;34m,\u001b[0m \u001b[0mdtype\u001b[0m\u001b[0;34m=\u001b[0m\u001b[0mnp\u001b[0m\u001b[0;34m.\u001b[0m\u001b[0mbool_\u001b[0m\u001b[0;34m)\u001b[0m\u001b[0;34m\u001b[0m\u001b[0;34m\u001b[0m\u001b[0m\n",
            "\u001b[0;31mTypeError\u001b[0m: '<' not supported between instances of 'numpy.ndarray' and 'str'"
          ]
        }
      ]
    }
  ]
}