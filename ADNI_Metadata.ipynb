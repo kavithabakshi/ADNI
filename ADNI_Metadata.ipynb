{
  "nbformat": 4,
  "nbformat_minor": 0,
  "metadata": {
    "colab": {
      "name": "Untitled2.ipynb",
      "version": "0.3.2",
      "provenance": [],
      "collapsed_sections": [],
      "include_colab_link": true
    },
    "kernelspec": {
      "name": "python3",
      "display_name": "Python 3"
    }
  },
  "cells": [
    {
      "cell_type": "markdown",
      "metadata": {
        "id": "view-in-github",
        "colab_type": "text"
      },
      "source": [
        "<a href=\"https://colab.research.google.com/github/kavithabakshi/ADNI/blob/master/ADNI_Metadata.ipynb\" target=\"_parent\"><img src=\"https://colab.research.google.com/assets/colab-badge.svg\" alt=\"Open In Colab\"/></a>"
      ]
    },
    {
      "cell_type": "code",
      "metadata": {
        "id": "sFQZjum0So-D",
        "colab_type": "code",
        "outputId": "959e7e15-a6c9-4eee-eb25-053f99393355",
        "colab": {
          "base_uri": "https://localhost:8080/",
          "height": 501
        }
      },
      "source": [
        "import pandas as pd\n",
        "import matplotlib.pyplot as plt\n",
        "%matplotlib inline\n",
        "import warnings\n",
        "warnings.filterwarnings(\"ignore\")\n",
        "metadata_test = 'https://raw.githubusercontent.com/kavithabakshi/ADNI/master/ADNI_Metadata_test.csv'\n",
        "metadata = 'https://raw.githubusercontent.com/kavithabakshi/ADNI/master/ADNI_Metadata.csv'\n",
        "df = pd.read_csv(metadata, sep='\\s*,\\s*',delimiter = ',')\n",
        "print(df.shape)\n",
        "df_cn=df[df['researchGroup']==\"CN\"]\n",
        "print(df_cn.shape)\n",
        "df_ad=df[df['researchGroup']==\"AD\"]\n",
        "print(df_ad.shape)\n",
        "df_mci=df[df['researchGroup']==\"MCI\"]\n",
        "print(df_mci.shape)\n",
        "df.info()\n",
        "df.isnull().sum()"
      ],
      "execution_count": 18,
      "outputs": [
        {
          "output_type": "stream",
          "text": [
            "(1599, 9)\n",
            "(490, 9)\n",
            "(332, 9)\n",
            "(777, 9)\n",
            "<class 'pandas.core.frame.DataFrame'>\n",
            "RangeIndex: 1599 entries, 0 to 1598\n",
            "Data columns (total 9 columns):\n",
            "researchGroup    1599 non-null object\n",
            "subjectSex       1599 non-null object\n",
            "MMSCORE          1599 non-null int64\n",
            "GDTOTAL          1599 non-null int64\n",
            "CDGLOBAL         1599 non-null float64\n",
            "NPISCORE         1599 non-null int64\n",
            "FAQTOTAL         1599 non-null int64\n",
            "subjectAge       1599 non-null float64\n",
            "weightKg         1599 non-null float64\n",
            "dtypes: float64(3), int64(4), object(2)\n",
            "memory usage: 112.5+ KB\n"
          ],
          "name": "stdout"
        },
        {
          "output_type": "execute_result",
          "data": {
            "text/plain": [
              "researchGroup    0\n",
              "subjectSex       0\n",
              "MMSCORE          0\n",
              "GDTOTAL          0\n",
              "CDGLOBAL         0\n",
              "NPISCORE         0\n",
              "FAQTOTAL         0\n",
              "subjectAge       0\n",
              "weightKg         0\n",
              "dtype: int64"
            ]
          },
          "metadata": {
            "tags": []
          },
          "execution_count": 18
        }
      ]
    },
    {
      "cell_type": "code",
      "metadata": {
        "id": "jMboWsmOae1n",
        "colab_type": "code",
        "colab": {
          "base_uri": "https://localhost:8080/",
          "height": 388
        },
        "outputId": "2a63804a-91f4-48f3-b0ab-cb1feb3e355a"
      },
      "source": [
        "print(df.columns)\n",
        "y = df['researchGroup']\n",
        "print(y.shape)\n",
        "X = df.drop(['researchGroup'], axis=1)\n",
        "print(X.shape)\n",
        "X = pd.get_dummies(data = X, columns = ['subjectSex'] , prefix = ['subjectSex'] , drop_first = True)\n",
        "print(X.shape, '\\n', X.columns)\n",
        "X.head()\n",
        "y = pd.get_dummies(data = y, columns = ['researchGroup'] , prefix = ['researchGroup'] , drop_first = True)\n",
        "print(y.shape, '\\n', y.columns)\n",
        "y.head()"
      ],
      "execution_count": 27,
      "outputs": [
        {
          "output_type": "stream",
          "text": [
            "Index(['researchGroup', 'subjectSex', 'MMSCORE', 'GDTOTAL', 'CDGLOBAL',\n",
            "       'NPISCORE', 'FAQTOTAL', 'subjectAge', 'weightKg'],\n",
            "      dtype='object')\n",
            "(1599,)\n",
            "(1599, 8)\n",
            "(1599, 8) \n",
            " Index(['MMSCORE', 'GDTOTAL', 'CDGLOBAL', 'NPISCORE', 'FAQTOTAL', 'subjectAge',\n",
            "       'weightKg', 'subjectSex_M'],\n",
            "      dtype='object')\n",
            "(1599, 2) \n",
            " Index(['['researchGroup']_CN', '['researchGroup']_MCI'], dtype='object')\n"
          ],
          "name": "stdout"
        },
        {
          "output_type": "execute_result",
          "data": {
            "text/html": [
              "<div>\n",
              "<style scoped>\n",
              "    .dataframe tbody tr th:only-of-type {\n",
              "        vertical-align: middle;\n",
              "    }\n",
              "\n",
              "    .dataframe tbody tr th {\n",
              "        vertical-align: top;\n",
              "    }\n",
              "\n",
              "    .dataframe thead th {\n",
              "        text-align: right;\n",
              "    }\n",
              "</style>\n",
              "<table border=\"1\" class=\"dataframe\">\n",
              "  <thead>\n",
              "    <tr style=\"text-align: right;\">\n",
              "      <th></th>\n",
              "      <th>['researchGroup']_CN</th>\n",
              "      <th>['researchGroup']_MCI</th>\n",
              "    </tr>\n",
              "  </thead>\n",
              "  <tbody>\n",
              "    <tr>\n",
              "      <th>0</th>\n",
              "      <td>1</td>\n",
              "      <td>0</td>\n",
              "    </tr>\n",
              "    <tr>\n",
              "      <th>1</th>\n",
              "      <td>1</td>\n",
              "      <td>0</td>\n",
              "    </tr>\n",
              "    <tr>\n",
              "      <th>2</th>\n",
              "      <td>1</td>\n",
              "      <td>0</td>\n",
              "    </tr>\n",
              "    <tr>\n",
              "      <th>3</th>\n",
              "      <td>1</td>\n",
              "      <td>0</td>\n",
              "    </tr>\n",
              "    <tr>\n",
              "      <th>4</th>\n",
              "      <td>1</td>\n",
              "      <td>0</td>\n",
              "    </tr>\n",
              "  </tbody>\n",
              "</table>\n",
              "</div>"
            ],
            "text/plain": [
              "   ['researchGroup']_CN  ['researchGroup']_MCI\n",
              "0                     1                      0\n",
              "1                     1                      0\n",
              "2                     1                      0\n",
              "3                     1                      0\n",
              "4                     1                      0"
            ]
          },
          "metadata": {
            "tags": []
          },
          "execution_count": 27
        }
      ]
    },
    {
      "cell_type": "code",
      "metadata": {
        "id": "URjO04qQgClC",
        "colab_type": "code",
        "colab": {
          "base_uri": "https://localhost:8080/",
          "height": 34
        },
        "outputId": "f9b3544a-c76c-4df6-b888-0d718f7c6e5d"
      },
      "source": [
        "from tensorflow.keras import layers\n",
        "from tensorflow import keras \n",
        "import tensorflow as tf\n",
        "from tensorflow.python.layers import base\n",
        "import tensorflow.contrib.slim as slim\n",
        "\n",
        "from keras.layers import Dense, Input, Embedding, Reshape, Dropout\n",
        "from keras.models import Model,Sequential\n",
        "from keras.layers.merge import concatenate\n",
        "from keras.wrappers.scikit_learn import KerasRegressor, KerasClassifier\n",
        "from keras.optimizers import SGD\n",
        "from keras.constraints import maxnorm"
      ],
      "execution_count": 22,
      "outputs": [
        {
          "output_type": "stream",
          "text": [
            "Using TensorFlow backend.\n"
          ],
          "name": "stderr"
        }
      ]
    },
    {
      "cell_type": "code",
      "metadata": {
        "id": "BO2phcDKgFLl",
        "colab_type": "code",
        "colab": {
          "base_uri": "https://localhost:8080/",
          "height": 69
        },
        "outputId": "95bf28ba-3363-4cda-f0d1-6ec24989eb76"
      },
      "source": [
        "droprate = 0.5\n",
        "model = Sequential()\n",
        "model.add(Dense(128, input_dim=8, activation='relu'))\n",
        "model.add(Dropout(droprate))\n",
        "model.add(Dense(128, activation='relu'))\n",
        "model.add(Dropout(droprate))\n",
        "model.add(Dense(2, activation='sigmoid'))\n",
        "model.compile(loss='binary_crossentropy', optimizer='adam', metrics=['accuracy'])\n",
        "model.fit(X,y)"
      ],
      "execution_count": 28,
      "outputs": [
        {
          "output_type": "stream",
          "text": [
            "Epoch 1/1\n",
            "1599/1599 [==============================] - 1s 429us/step - loss: 3.5881 - acc: 0.5444\n"
          ],
          "name": "stdout"
        },
        {
          "output_type": "execute_result",
          "data": {
            "text/plain": [
              "<keras.callbacks.History at 0x7fb33f9436d8>"
            ]
          },
          "metadata": {
            "tags": []
          },
          "execution_count": 28
        }
      ]
    }
  ]
}